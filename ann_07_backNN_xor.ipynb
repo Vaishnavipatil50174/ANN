{
 "cells": [
  {
   "attachments": {},
   "cell_type": "markdown",
   "metadata": {},
   "source": [
    "\"\"\"ann 07 ->                                                                                                            \n",
    "Implement to show Back Propagation Network for XOR function with Binary Input and Output\n",
    "\"\"\""
   ]
  },
  {
   "cell_type": "code",
   "execution_count": 12,
   "metadata": {},
   "outputs": [
    {
     "name": "stdout",
     "output_type": "stream",
     "text": [
      "Output after training:\n",
      "[[0.02471883]\n",
      " [0.96092558]\n",
      " [0.96745423]\n",
      " [0.03116735]]\n"
     ]
    }
   ],
   "source": [
    "import numpy as np\n",
    "import math\n",
    "def sigmoid(x):\n",
    "    return 1 / (1 + np.exp(-x))\n",
    "def sigmoid_derivative(x):\n",
    "    return x * (1 - x)\n",
    "# Define the XOR dataset\n",
    "X = np.array([[0, 0], [0, 1], [1, 0], [1, 1]])\n",
    "y = np.array([[0], [1], [1], [0]])\n",
    "np.random.seed(42)\n",
    "# Initialize the weights randomly with mean 0\n",
    "synapse_0 = 2 * np.random.random((2, 3)) - 1\n",
    "synapse_1 = 2 * np.random.random((3, 1)) - 1\n",
    "# Train the neural network\n",
    "for i in range(10000):\n",
    "    # Forward propagation\n",
    "    layer_0 = X\n",
    "    layer_1 = sigmoid(np.dot(layer_0, synapse_0))\n",
    "    layer_2 = sigmoid(np.dot(layer_1, synapse_1))\n",
    "    # Calculate the error\n",
    "    layer_2_error = y - layer_2\n",
    "    # Back propagation\n",
    "    layer_2_delta = layer_2_error * sigmoid_derivative(layer_2)\n",
    "    layer_1_error = layer_2_delta.dot(synapse_1.T)\n",
    "    layer_1_delta = layer_1_error * sigmoid_derivative(layer_1)\n",
    "    # Update the weights\n",
    "    synapse_1 += layer_1.T.dot(layer_2_delta)\n",
    "    synapse_0 += layer_0.T.dot(layer_1_delta)  #T ==> transpose\n",
    "# Print the final output after training\n",
    "\n",
    "print(\"Output after training:\")\n",
    "print(layer_2)\n"
   ]
  },
  {
   "cell_type": "code",
   "execution_count": 11,
   "metadata": {},
   "outputs": [
    {
     "name": "stdout",
     "output_type": "stream",
     "text": [
      "[[0]\n",
      " [1]\n",
      " [1]\n",
      " [0]]\n"
     ]
    }
   ],
   "source": [
    "\"\"\"ann 07 ->                                                                                                            \n",
    "Implement to show Back Propagation Network for XOR function with Binary Input and Output\n",
    "\"\"\"\n",
    "import numpy as np \n",
    "import math\n",
    "def sigmoid(x):\n",
    "    return 1 / (1 + np.exp(-x))\n",
    "\n",
    "def sigmoid_derivative(x):\n",
    "    return x * (1 - x)\n",
    "\n",
    "X = np.array([[0, 0], [0, 1], [1, 0], [1, 1]])\n",
    "y = np.array([[0], [1], [1], [0]])\n",
    "\n",
    "# Define the neural network architecture and initialize the weights randomly\n",
    "input_size = 2\n",
    "hidden_size = 3\n",
    "output_size = 1\n",
    "\n",
    "np.random.seed(1)\n",
    "weights1 = np.random.randn(input_size, hidden_size)\n",
    "weights2 = np.random.randn(hidden_size, output_size)\n",
    "\n",
    "# Define the training parameters\n",
    "learning_rate = 0.5\n",
    "num_iterations = 450000\n",
    "\n",
    "# Train the neural network using backpropagation\n",
    "for i in range(num_iterations):\n",
    "    # Forward propagation\n",
    "    hidden_layer_activation = np.dot(X, weights1)\n",
    "    hidden_layer_output = sigmoid(hidden_layer_activation)\n",
    "    output_layer_activation = np.dot(hidden_layer_output, weights2)\n",
    "    predicted_output = sigmoid(output_layer_activation)\n",
    "    \n",
    "    \n",
    "    # Backward propagation\n",
    "    error = y - predicted_output\n",
    "    d_predicted_output = error * sigmoid_derivative(predicted_output)\n",
    "    \n",
    "    error_hidden_layer = d_predicted_output.dot(weights2.T)\n",
    "    d_hidden_layer = error_hidden_layer * sigmoid_derivative(hidden_layer_output)\n",
    "    \n",
    "    # Update the weights\n",
    "    weights2 += hidden_layer_output.T.dot(d_predicted_output) * learning_rate\n",
    "    weights1 += X.T.dot(d_hidden_layer) * learning_rate\n",
    "    \n",
    "# Test the neural network\n",
    "hidden_layer_activation = np.dot(X, weights1)\n",
    "hidden_layer_output = sigmoid(hidden_layer_activation)\n",
    "output_layer_activation = np.dot(hidden_layer_output, weights2)\n",
    "predicted_output = sigmoid(output_layer_activation)\n",
    "\n",
    "threshold = 0.20 #the threshold should be between 0.55 - 0.8 to get the output\n",
    "predicted_output = np.where(predicted_output > threshold, 1, 0)\n",
    "\n",
    "print(predicted_output)"
   ]
  }
 ],
 "metadata": {
  "kernelspec": {
   "display_name": "Python 3",
   "language": "python",
   "name": "python3"
  },
  "language_info": {
   "codemirror_mode": {
    "name": "ipython",
    "version": 3
   },
   "file_extension": ".py",
   "mimetype": "text/x-python",
   "name": "python",
   "nbconvert_exporter": "python",
   "pygments_lexer": "ipython3",
   "version": "3.9.1"
  },
  "orig_nbformat": 4
 },
 "nbformat": 4,
 "nbformat_minor": 2
}
